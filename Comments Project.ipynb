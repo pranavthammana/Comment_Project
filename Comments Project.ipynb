{
 "cells": [
  {
   "cell_type": "code",
   "execution_count": 24,
   "metadata": {
    "collapsed": false
   },
   "outputs": [
   ],
   "source": [
    "import csv"
   ]
  },
  {
   "cell_type": "code",
   "execution_count": 25,
   "metadata": {
    "collapsed": false
   },
   "outputs": [
   ],
   "source": [
    "#setting up the csv file so it can be used\n",
    "with open('data/comments.csv') as data:\n",
    "    next(data)\n",
    "    data = csv.reader(data, delimiter=',')"
   ]
  },
  {
   "cell_type": "code",
   "execution_count": 26,
   "metadata": {
    "collapsed": false
   },
   "outputs": [
   ],
   "source": [
    "#Intro\n",
    "def intro():\n",
    "    '''This function takes no inputs and introduction to the course is returned'''\n",
    "    return \"Through a project-based approach, students will work towards mastering the fundamentals of computational thinking and problem-solving using the Python programming language. A successful student will become familiar with Python syntax, data types, program organization, algorithm design, and control structures.  A successful student will be able to develop efficient, readable algorithms and debug code when necessary.\""
   ]
  },
  {
   "cell_type": "code",
   "execution_count": 27,
   "metadata": {
    "collapsed": false
   },
   "outputs": [
    {
     "name": "stdout",
     "output_type": "stream",
     "text": [
      "{'Andrew Hou': 'The student has showned perserverence through the semester. Well done.', 'Alden McVay': 'The student has lacked/failed to show perserverence through the semester.', 'Pranav T': 'The student has showned perserverence through the semester. Well done.', 'Ryan Brown': 'The student has lacked/failed to show perserverence through the semester.', 'Annie Watson': 'The student has showned perserverence through the semester. Well done.', 'Don Cheto': 'The student has lacked/failed to show perserverence through the semester.', 'Don Cheadle': 'The student has lacked/failed to show perserverence through the semester.', 'Amy Schumer': 'The student has showned perserverence through the semester. Well done.', 'Kim Kardashian': 'The student has lacked/failed to show perserverence through the semester.'}\n"
     ]
    }
   ],
   "source": [
    "def pers_trend(location):\n",
    "    '''The function takes a look at the trend of how a student has been doing over the course, if the student has improved by over 5% over the course of the semester, they would be considered to have perservered. A dictionary of whether or not a student has perservered is returned'''\n",
    "    student_pers = {}\n",
    "    with open(location) as student_info:\n",
    "        next(student_info)\n",
    "        student_info = csv.reader(student_info, delimiter=',')\n",
    "        for student in student_info:\n",
    "            if (int(student[8])-int(student[5])) > 5:\n",
    "                student_pers[student[0]] = 'The student has showned perserverence through the semester. Well done.'\n",
    "            else:\n",
    "                student_pers[student[0]] = 'The student has lacked/failed to show perserverence through the semester.'\n",
    "    return student_pers\n",
    "\n",
    "\n",
    "print(pers_trend(\"data/comments.csv\"))"
   ]
  },
  {
   "cell_type": "code",
   "execution_count": 28,
   "metadata": {
    "collapsed": false
   },
   "outputs": [
    {
     "data": {
      "text/plain": [
       "'he'"
      ]
     },
     "execution_count": 28,
     "metadata": {
     },
     "output_type": "execute_result"
    }
   ],
   "source": [
    "def article(article, ver):\n",
    "    '''the function changes \"an\" and \"a\" inside of the print out, and if ver, the function returns the gender pronouns for the student'''\n",
    "    #Part of the function which looks at whether an a or an an is used for a number\n",
    "    if ver:\n",
    "        article = str(article)\n",
    "        if article[0] == \"8\":\n",
    "            return \"an\"\n",
    "        else:\n",
    "            return \"a\"\n",
    "    #This part returns he, she or they based on gender of the person\n",
    "    else:\n",
    "        with open(\"data/comments.csv\") as data:\n",
    "            next(data)\n",
    "            data = csv.reader(data, delimiter=',')\n",
    "            for j in data:\n",
    "                if article == j[0]:\n",
    "                    if j[1] == \"M\":\n",
    "                        return \"he\"\n",
    "                    elif j[1] == \"F\":\n",
    "                        return \"she\"\n",
    "                    elif j[1] == \"O\":\n",
    "                        return \"they\"\n",
    "article(\"Alden McVay\", False)"
   ]
  },
  {
   "cell_type": "code",
   "execution_count": 29,
   "metadata": {
    "collapsed": false
   },
   "outputs": [
    {
     "data": {
      "text/plain": [
       "{'Andrew Hou': 87.5,\n",
       " 'Alden McVay': 93.0,\n",
       " 'Pranav T': 87.5,\n",
       " 'Ryan Brown': 60.0,\n",
       " 'Annie Watson': 87.25,\n",
       " 'Don Cheto': 0.5,\n",
       " 'Don Cheadle': 74.5,\n",
       " 'Amy Schumer': 51.5,\n",
       " 'Kim Kardashian': 15.0}"
      ]
     },
     "execution_count": 29,
     "metadata": {
     },
     "output_type": "execute_result"
    }
   ],
   "source": [
    "def average_scores():\n",
    "    '''This function takes no input and returns the the average scores of the students in the form of {student: averagescore}'''\n",
    "    counter = 0\n",
    "    averages = {}\n",
    "    info_list = []\n",
    "    with open('data/comments.csv') as csvfile:\n",
    "        data = csv.reader(csvfile, delimiter=',')\n",
    "        header = csvfile.readline()\n",
    "        for line in csvfile:\n",
    "            info = line.strip().split(',')\n",
    "            info_list.append(info)\n",
    "        for person in info_list:\n",
    "            average = int(person[5]) + int(person[6]) + int(person[7]) + int(person[8])\n",
    "            average /= 4\n",
    "            averages[person[0]] = average\n",
    "            average = 0\n",
    "            counter+=1\n",
    "        return(averages)\n",
    "average_scores()"
   ]
  },
  {
   "cell_type": "code",
   "execution_count": 30,
   "metadata": {
    "collapsed": false
   },
   "outputs": [
    {
     "name": "stdout",
     "output_type": "stream",
     "text": [
      "Andrew is constantly messing around in class, and doesn't listen at all. Andrew Hou needs to stop being distracted and work harder. \n",
      "Alden's stunning the whole world with the unbelievable effort being given and I cannot express how impressive that is. \n",
      "Pranav is doing alright interms of effort, but there is still room for improvement. \n",
      "Ryan work ethic is really, really just non-existant. The scale was originally supposed to be from 1 - 5 but Ryan Brown got a 0... \n",
      "Annie is working hard in class and showing a huge amount of dedication, that attitude will achieve something great for sure.\n",
      "Don is constantly goofing off in class, and doesn't listen at all. Don Cheto needs to stop being distracted and work harder. \n",
      "Don is focused in class, but is not very hard working when it comes to some of the work. \n",
      "Amy work ethic is really, really bad. The scale was originally supposed to be from 1 - 5 but Amy Schumer got a 0... \n",
      "Kim is focused in class, but is not very diligent when it comes to some of the work. \n"
     ]
    }
   ],
   "source": [
    "import random as rand\n",
    "def work(student):\n",
    "    #word list such that the comments arent fixed for a certain work ethic but rather have some variability, hopefully giving the impression that the\n",
    "    #comments were hand written rather than coded or copy and pasted\n",
    "    words = [['bad', 'just non-existant'], ['goofing off', 'messing around', 'being distracted'], ['diligent', 'hard working'], ['alright', 'pretty well', 'good'], ['hard', 'very diligently'], ['unbelievable', 'exquisite', 'amazing']]\n",
    "    with open('data/comments.csv') as data:\n",
    "        next(data)\n",
    "        '''This function takes in a student from the list of student informations, and returns a message based on how  hard the student worked in the class.'''\n",
    "        data = csv.reader(data, delimiter=',')\n",
    "        for i in data:\n",
    "            if i[0] == student:\n",
    "                if i[2] == '0':\n",
    "                    return f\"{i[0].split()[0]} work ethic is really, really {rand.choice(words[int(i[2])])}. The scale was originally supposed to be from 1 - 5 but {i[0]} got a 0... \"\n",
    "                if i[2] == '1':\n",
    "                    return f\"{i[0].split()[0]} is constantly {rand.choice(words[int(i[2])])} in class, and doesn't listen at all. {i[0]} needs to stop being distracted and work harder. \"\n",
    "                if i[2] == '2':\n",
    "                    return f\"{i[0].split()[0]} is focused in class, but is not very {rand.choice(words[int(i[2])])} when it comes to some of the work. \"\n",
    "                if i[2] == '3':\n",
    "                    return f\"{i[0].split()[0]} is doing {rand.choice(words[int(i[2])])} interms of effort, but there is still room for improvement. \"\n",
    "                if i[2] == '4':\n",
    "                    return f\"{i[0].split()[0]} is working {rand.choice(words[int(i[2])])} in class and showing a huge amount of dedication, that attitude will achieve something great for sure.\"\n",
    "                if i[2] == '5':\n",
    "                    return f\"{i[0].split()[0]}'s stunning the whole world with the {rand.choice(words[int(i[2])])} effort being given and I cannot express how impressive that is. \"\n",
    "with open('data/comments.csv') as data:\n",
    "    next(data)\n",
    "    data = csv.reader(data, delimiter=',')\n",
    "    for stu in data:\n",
    "        print(work(stu[0]))"
   ]
  },
  {
   "cell_type": "code",
   "execution_count": 31,
   "metadata": {
    "collapsed": false
   },
   "outputs": [
    {
     "name": "stdout",
     "output_type": "stream",
     "text": [
      "Alden always demonstrates perfect colaboration. This student enlightens the rest of the class with thier astute observations and caresses everyones ears with his blessed words\n",
      "Ryan does not colaborate at all. Hardly talks to peers or works with others\n",
      "Andrew demonstrates good colaboration. Actively talks to table and has something useful and important to say.\n"
     ]
    }
   ],
   "source": [
    "def collaboration(name):\n",
    "    info_list = []\n",
    "    \"\"\"This function takes in the name of a student and returns how well the student collaborated with their classmates.\"\"\"\n",
    "    with open('data/comments.csv') as csvfile:\n",
    "        data = csv.reader(csvfile, delimiter=',')\n",
    "        for line in csvfile:\n",
    "            info = line.strip().split(',')\n",
    "            info_list.append(info)\n",
    "        for person in info_list:\n",
    "            if person[0] == name:\n",
    "                colab = person[3]\n",
    "                if colab == '0':\n",
    "                    return f'{person[0].split()[0]} does not colaborate at all. Hardly talks to peers or works with others'\n",
    "                elif colab == '1':\n",
    "                    return f\"{person[0].split()[0]} demonstrates poor collaboration. Will talk to tablemates but won't conversate at all\"\n",
    "                elif colab == '2':\n",
    "                    return f'{person[0].split()[0]} demonstrates decent collaboration. Will talk to tablemates and add to conversation occationally.'\n",
    "                elif colab == '3':\n",
    "                    return f\"{person[0].split()[0]} demonstrates good collaboration. Actively talks to table and has something useful and important to say.\"\n",
    "                elif colab == '4':\n",
    "                    return f\"{person[0].split()[0]} demonstrates amazing collaboration. This student always adding to the conversation, and constantly inspires their classmates to speak up.\"\n",
    "                else:\n",
    "                    return f\"{person[0].split()[0]} always demonstrates perfect colaboration. This student enlightens the rest of the class with thier astute observations and caresses everyones ears with his blessed words\"\n",
    "                    \n",
    "print(collaboration('Alden McVay'))\n",
    "print(collaboration('Ryan Brown'))\n",
    "print(collaboration('Andrew Hou'))"
   ]
  },
  {
   "cell_type": "code",
   "execution_count": 32,
   "metadata": {
    "collapsed": false
   },
   "outputs": [
    {
     "data": {
      "text/plain": [
       "{'Andrew Hou': 'B+',\n",
       " 'Alden McVay': 'A',\n",
       " 'Pranav T': 'B+',\n",
       " 'Ryan Brown': 'D-',\n",
       " 'Annie Watson': 'B+',\n",
       " 'Don Cheto': 'F',\n",
       " 'Don Cheadle': 'C',\n",
       " 'Amy Schumer': 'F',\n",
       " 'Kim Kardashian': 'F'}"
      ]
     },
     "execution_count": 32,
     "metadata": {
     },
     "output_type": "execute_result"
    }
   ],
   "source": [
    "def grade(a):\n",
    "    '''This function takes in a dictionary in the form of {name: average percentage} and returns a dictionary in the form of {name: grade}'''\n",
    "    d = dict()\n",
    "    for i in a.keys():\n",
    "        perc = a[i]\n",
    "        perc = float(perc)\n",
    "        if perc >= 92.5:\n",
    "            d[i] = 'A'\n",
    "        elif perc >= 90:\n",
    "            d[i] = 'A-'\n",
    "        elif perc >= 87:\n",
    "            d[i] = 'B+'\n",
    "        elif perc >= 83:\n",
    "            d[i] = 'B'\n",
    "        elif perc >= 80:\n",
    "            d[i] = 'B-'\n",
    "        elif perc >= 77:\n",
    "            d[i] = 'C+'\n",
    "        elif perc >= 73:\n",
    "            d[i] = 'C'\n",
    "        elif perc >= 70:\n",
    "            d[i] = 'C-'\n",
    "        elif perc >= 67:\n",
    "            d[i] = 'D+'\n",
    "        elif perc >= 63:\n",
    "            d[i] = 'D'\n",
    "        elif perc >= 60:\n",
    "            d[i] = 'D-'\n",
    "        else:\n",
    "            d[i] = 'F'\n",
    "    return d\n",
    "grade(average_scores())"
   ]
  },
  {
   "cell_type": "code",
   "execution_count": 33,
   "metadata": {
    "collapsed": false
   },
   "outputs": [
    {
     "name": "stdout",
     "output_type": "stream",
     "text": [
      "{'Andrew Hou': 'I suggest that Andrew meet with me after school in order to boost his grade. ', 'Alden McVay': 'Alden is doing great and should keep up the good work! ', 'Pranav T': 'Pranav is doing well and needs to keep doing what he is doing. Although he may be unsatisfied with his grade, he is working really hard and just needs to have faith in the system. ', 'Ryan Brown': 'I suggest that Ryan meet with me after school in order to boost his grade. ', 'Annie Watson': 'Annie is doing well and needs to keep doing what she is doing. Although she may be unsatisfied with her grade, she is working really hard and just needs to have faith in the system. ', 'Don Cheto': 'I suggest that Don meet with me after school in order to boost his grade. ', 'Don Cheadle': 'I suggest that Don meet with me after school in order to boost his grade. ', 'Amy Schumer': 'If Amy wants to get better grades, she needs to work harder in class and out of class. ', 'Kim Kardashian': 'I suggest that Kim meet with me after school in order to boost her grade. '}\n"
     ]
    }
   ],
   "source": [
    "def improvement():\n",
    "    '''Gives each student a respective way to improve based on their work ethic, collaboration, grade and outside class help. Returns a dictionary in the form of {student: improvement}'''\n",
    "    d = dict()\n",
    "    with open('data/comments.csv') as data:\n",
    "        next(data)\n",
    "        data = csv.reader(data, delimiter=',')\n",
    "        for i in data:\n",
    "            if article(i[0], False) == \"he\":\n",
    "                art = \"his\"\n",
    "            elif article(i[0], False) == \"she\":\n",
    "                art = \"her\"\n",
    "            elif article(i[0], False) == \"they\":\n",
    "                art = \"their\"\n",
    "            if grade(average_scores())[i[0]] != 'A' and i[4] == \"N\": #If the grade is less than an a and the student does not meet the teacher after school\n",
    "                d[i[0]] = f\"I suggest that {i[0].split()[0]} meet with me after school in order to boost {art} grade. \"\n",
    "            elif grade(average_scores())[i[0]] != 'A' and i[4] == \"Y\" and int(i[2]) < 3: #If the student doesn't have an a and has a bad work ethic, but meets the teacher after school. \n",
    "                d[i[0]] = f\"If {i[0].split()[0]} wants to get better grades, {article(i[0], False)} needs to work harder in class and out of class. \"\n",
    "            elif grade(average_scores())[i[0]] != 'A' and i[4] == \"Y\" and int(i[2]) >= 3: #If the student doesnt have an a, but is working hard and meeting the teacher\n",
    "                d[i[0]] = f\"{i[0].split()[0]} is doing well and needs to keep doing what {article(i[0], False)} is doing. Although {article(i[0], False)} may be unsatisfied with {art} grade, {article(i[0], False)} is working really hard and just needs to have faith in the system. \"\n",
    "            elif grade(average_scores())[i[0]] != 'A' and int(i[3]) < 3: #If the student has an a but doesnt collaborate\n",
    "                d[i[0]] = f\"In order to improve, I sugget that {i[0].split[0]} talk more with student and lend his knowledge to others. \"\n",
    "            else:\n",
    "                d[i[0]] = f\"{i[0].split()[0]} is doing great and should keep up the good work! \"\n",
    "    return d\n",
    "                \n",
    "                \n",
    "print(improvement())"
   ]
  },
  {
   "cell_type": "code",
   "execution_count": 55,
   "metadata": {
    "collapsed": false
   },
   "outputs": [
    {
     "name": "stdout",
     "output_type": "stream",
     "text": [
      "87.25\n",
      "Through a project-based approach, students will work towards mastering the fundamentals of computational thinking and problem-solving using the Python programming language. A successful student will become familiar with Python syntax, data types, program organization, algorithm design, and control structures.  A successful student will be able to develop efficient, readable algorithms and debug code when necessary. Annie has an average score of 87.25% in her work, which is equal to the grade of B+.\n",
      "Annie is doing well and needs to keep doing what she is doing. Although she may be unsatisfied with her grade, she is working really hard and just needs to have faith in the system. \n",
      "\n",
      "Great improvement this semester and is showing excellent work and looking good for next semester.\n",
      "51.5\n",
      "Through a project-based approach, students will work towards mastering the fundamentals of computational thinking and problem-solving using the Python programming language. A successful student will become familiar with Python syntax, data types, program organization, algorithm design, and control structures.  A successful student will be able to develop efficient, readable algorithms and debug code when necessary. Amy has an average score of 51.5% in her work, which is equal to the grade of F.\n",
      "If Amy wants to get better grades, she needs to work harder in class and out of class. \n",
      "\n",
      "Giving up on comedy was a good idea.\n",
      "15.0\n",
      "Through a project-based approach, students will work towards mastering the fundamentals of computational thinking and problem-solving using the Python programming language. A successful student will become familiar with Python syntax, data types, program organization, algorithm design, and control structures.  A successful student will be able to develop efficient, readable algorithms and debug code when necessary. Kim has an average score of 15.0% in her work, which is equal to the grade of F.\n",
      "I suggest that Kim meet with me after school in order to boost her grade. \n",
      "\n",
      "Tell Kanye I said hi.\n"
     ]
    }
   ],
   "source": [
    "def final_comment():\n",
    "    comments = []\n",
    "    with open('data/comments.csv') as stu_info:\n",
    "        next(stu_info)\n",
    "        stu_info = csv.reader(stu_info, delimiter=',')\n",
    "        for i in stu_info:\n",
    "            if article(i[0], False) == 'he':\n",
    "                comment = \"\"\n",
    "                comment += intro()\n",
    "                comment += f\" {i[0].split()[0]} has an average score of {average_scores()[i[0]]}% in his work, which is equal to the grade of {grade(average_scores())[i[0]]}.\\n\"\n",
    "                comment += f'\\n{work(i[0])}{collaboration(i[0])} {pers_trend(\"data/comments.csv\")[i[0]]} {extra_help(i[0])} although this is still based on the needs of the student.'\n",
    "                comment += improvement()[i[0]]\n",
    "                comment += f'\\n\\n{i[-1]}.'\n",
    "                comments.append(comment)\n",
    "            else:\n",
    "                comment = \"\"\n",
    "                comment += intro()\n",
    "                comment += f\" {i[0].split()[0]} has an average score of {average_scores()[i[0]]}% in her work, which is equal to the grade of {grade(average_scores())[i[0]]}.\\n\"\n",
    "                comment += f'\\n{work(i[0])}{collaboration(i[0])} {pers_trend(\"data/comments.csv\")[i[0]]} {extra_help(i[0])} although this is still based on the needs of the student.'\n",
    "                comment += improvement()[i[0]]\n",
    "                comment += f'\\n\\n{i[-1]}.'\n",
    "                comments.append(comment)\n",
    "    return comments\n",
    "cmts = final_comment()"
   ]
  },
  {
   "cell_type": "code",
   "execution_count": 35,
   "metadata": {
    "collapsed": false
   },
   "outputs": [
    {
     "data": {
      "text/plain": [
       "\"This student doesn't come to see me after school,\""
      ]
     },
     "execution_count": 35,
     "metadata": {
     },
     "output_type": "execute_result"
    }
   ],
   "source": [
    "def extra_help(name):\n",
    "    info_list = []\n",
    "    \"\"\"This function takes in the name of a student and returns if a student needs extra help.\"\"\"\n",
    "    with open('data/comments.csv') as csvfile:\n",
    "        data = csv.reader(csvfile, delimiter=',')\n",
    "        for line in csvfile:\n",
    "            info = line.strip().split(',')\n",
    "            info_list.append(info)\n",
    "        for person in info_list:\n",
    "            if person[0] == name:\n",
    "                extra = person[4]\n",
    "                if extra == 'N':\n",
    "                    return \"This student doesn't come to see me after school,\"\n",
    "                else:\n",
    "                    return \"This student comes and sees me after school,\"\n",
    "extra_help('Alden McVay')"
   ]
  },
  {
   "cell_type": "code",
   "execution_count": 48,
   "metadata": {
    "collapsed": false
   },
   "outputs": [
   ],
   "source": [
    "def writing():\n",
    "    '''this is a function for writing the comments each into theirown files'''\n",
    "    stu_l = []\n",
    "    with open('data/comments.csv') as ppl:\n",
    "        next(ppl)\n",
    "        ppl = csv.reader(ppl, delimiter = ',')\n",
    "        for stu in ppl:\n",
    "            stu_l.append(stu[0].split()[0]+stu[0].split()[1])\n",
    "    for stu in stu_l:\n",
    "        with open(f'data/{stu}.txt', 'a') as writing:\n",
    "            writing.write(final_comment()[stu_l.index(stu)])\n",
    "    return\n",
    "writing()"
   ]
  },
  {
   "cell_type": "code",
   "execution_count": 0,
   "metadata": {
    "collapsed": false
   },
   "outputs": [
   ],
   "source": [
   ]
  }
 ],
 "metadata": {
  "kernelspec": {
   "display_name": "Python 3 (system-wide)",
   "language": "python",
   "metadata": {
    "cocalc": {
     "description": "Python 3 programming language",
     "priority": 100,
     "url": "https://www.python.org/"
    }
   },
   "name": "python3"
  },
  "language_info": {
   "codemirror_mode": {
    "name": "ipython",
    "version": 3
   },
   "file_extension": ".py",
   "mimetype": "text/x-python",
   "name": "python",
   "nbconvert_exporter": "python",
   "pygments_lexer": "ipython3",
   "version": "3.6.9"
  }
 },
 "nbformat": 4,
 "nbformat_minor": 0
}